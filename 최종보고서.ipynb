{
 "cells": [
  {
   "cell_type": "code",
   "execution_count": 3,
   "metadata": {},
   "outputs": [],
   "source": [
    "import pandas as pd\n",
    "import numpy as np"
   ]
  },
  {
   "cell_type": "code",
   "execution_count": 4,
   "metadata": {},
   "outputs": [],
   "source": [
    "bicy = pd.read_csv('data/bicycle.csv', encoding='cp949')"
   ]
  },
  {
   "cell_type": "markdown",
   "metadata": {},
   "source": [
    "#### 1. 데이터설명\n",
    "2021년 1월 서울시 공공자전거 이용현황  \n",
    "대여소명  \n",
    "대여구분코드 - 일일회원/ 일일비회원/ 정기/ 단체  \n",
    "성별 - F/M(1/0)\n",
    "연령대코드 - AGE_001(~10대)/ 002(10대)/ 003(20대)/ 004(30대)/ 005(40대)/ 006(50대)/ 007(60대)/ 008(70대)  \n",
    "이용건수  \n",
    "운동량  \n",
    "탄소량  \n",
    "이동거리  \n",
    "이용시간"
   ]
  },
  {
   "cell_type": "code",
   "execution_count": 5,
   "metadata": {},
   "outputs": [
    {
     "data": {
      "text/html": [
       "<div>\n",
       "<style scoped>\n",
       "    .dataframe tbody tr th:only-of-type {\n",
       "        vertical-align: middle;\n",
       "    }\n",
       "\n",
       "    .dataframe tbody tr th {\n",
       "        vertical-align: top;\n",
       "    }\n",
       "\n",
       "    .dataframe thead th {\n",
       "        text-align: right;\n",
       "    }\n",
       "</style>\n",
       "<table border=\"1\" class=\"dataframe\">\n",
       "  <thead>\n",
       "    <tr style=\"text-align: right;\">\n",
       "      <th></th>\n",
       "      <th>대여일자</th>\n",
       "      <th>대여소번호</th>\n",
       "      <th>대여소명</th>\n",
       "      <th>대여구분코드</th>\n",
       "      <th>성별</th>\n",
       "      <th>연령대코드</th>\n",
       "      <th>이용건수</th>\n",
       "      <th>운동량</th>\n",
       "      <th>탄소량</th>\n",
       "      <th>이동거리(M)</th>\n",
       "      <th>이용시간(분)</th>\n",
       "    </tr>\n",
       "  </thead>\n",
       "  <tbody>\n",
       "    <tr>\n",
       "      <th>0</th>\n",
       "      <td>2021-01</td>\n",
       "      <td>3</td>\n",
       "      <td>중랑센터</td>\n",
       "      <td>일일(회원)</td>\n",
       "      <td>M</td>\n",
       "      <td>AGE_003</td>\n",
       "      <td>2</td>\n",
       "      <td>47.68</td>\n",
       "      <td>0.40</td>\n",
       "      <td>1720.00</td>\n",
       "      <td>25</td>\n",
       "    </tr>\n",
       "    <tr>\n",
       "      <th>1</th>\n",
       "      <td>2021-01</td>\n",
       "      <td>3</td>\n",
       "      <td>중랑센터</td>\n",
       "      <td>정기</td>\n",
       "      <td>M</td>\n",
       "      <td>AGE_003</td>\n",
       "      <td>11</td>\n",
       "      <td>578.98</td>\n",
       "      <td>2.87</td>\n",
       "      <td>12390.48</td>\n",
       "      <td>166</td>\n",
       "    </tr>\n",
       "    <tr>\n",
       "      <th>2</th>\n",
       "      <td>2021-01</td>\n",
       "      <td>3</td>\n",
       "      <td>중랑센터</td>\n",
       "      <td>정기</td>\n",
       "      <td>M</td>\n",
       "      <td>AGE_004</td>\n",
       "      <td>1</td>\n",
       "      <td>81.65</td>\n",
       "      <td>0.53</td>\n",
       "      <td>2291.05</td>\n",
       "      <td>13</td>\n",
       "    </tr>\n",
       "    <tr>\n",
       "      <th>3</th>\n",
       "      <td>2021-01</td>\n",
       "      <td>5</td>\n",
       "      <td>상암센터 정비실</td>\n",
       "      <td>일일(회원)</td>\n",
       "      <td>\\N</td>\n",
       "      <td>AGE_004</td>\n",
       "      <td>1</td>\n",
       "      <td>511.95</td>\n",
       "      <td>3.53</td>\n",
       "      <td>15209.58</td>\n",
       "      <td>47</td>\n",
       "    </tr>\n",
       "    <tr>\n",
       "      <th>4</th>\n",
       "      <td>2021-01</td>\n",
       "      <td>5</td>\n",
       "      <td>상암센터 정비실</td>\n",
       "      <td>일일(회원)</td>\n",
       "      <td>M</td>\n",
       "      <td>AGE_004</td>\n",
       "      <td>6</td>\n",
       "      <td>371.10</td>\n",
       "      <td>3.39</td>\n",
       "      <td>14642.60</td>\n",
       "      <td>134</td>\n",
       "    </tr>\n",
       "  </tbody>\n",
       "</table>\n",
       "</div>"
      ],
      "text/plain": [
       "      대여일자  대여소번호      대여소명  대여구분코드  성별    연령대코드  이용건수     운동량   탄소량  \\\n",
       "0  2021-01      3      중랑센터  일일(회원)   M  AGE_003     2   47.68  0.40   \n",
       "1  2021-01      3      중랑센터      정기   M  AGE_003    11  578.98  2.87   \n",
       "2  2021-01      3      중랑센터      정기   M  AGE_004     1   81.65  0.53   \n",
       "3  2021-01      5  상암센터 정비실  일일(회원)  \\N  AGE_004     1  511.95  3.53   \n",
       "4  2021-01      5  상암센터 정비실  일일(회원)   M  AGE_004     6  371.10  3.39   \n",
       "\n",
       "    이동거리(M)  이용시간(분)  \n",
       "0   1720.00       25  \n",
       "1  12390.48      166  \n",
       "2   2291.05       13  \n",
       "3  15209.58       47  \n",
       "4  14642.60      134  "
      ]
     },
     "execution_count": 5,
     "metadata": {},
     "output_type": "execute_result"
    }
   ],
   "source": [
    "bicy.head()"
   ]
  },
  {
   "cell_type": "code",
   "execution_count": 6,
   "metadata": {},
   "outputs": [
    {
     "name": "stdout",
     "output_type": "stream",
     "text": [
      "<class 'pandas.core.frame.DataFrame'>\n",
      "RangeIndex: 68731 entries, 0 to 68730\n",
      "Data columns (total 11 columns):\n",
      " #   Column   Non-Null Count  Dtype  \n",
      "---  ------   --------------  -----  \n",
      " 0   대여일자     68731 non-null  object \n",
      " 1   대여소번호    68731 non-null  int64  \n",
      " 2   대여소명     68731 non-null  object \n",
      " 3   대여구분코드   68731 non-null  object \n",
      " 4   성별       59942 non-null  object \n",
      " 5   연령대코드    68731 non-null  object \n",
      " 6   이용건수     68731 non-null  int64  \n",
      " 7   운동량      68731 non-null  object \n",
      " 8   탄소량      68731 non-null  object \n",
      " 9   이동거리(M)  68731 non-null  float64\n",
      " 10  이용시간(분)  68731 non-null  int64  \n",
      "dtypes: float64(1), int64(3), object(7)\n",
      "memory usage: 5.8+ MB\n"
     ]
    }
   ],
   "source": [
    "bicy.info()"
   ]
  },
  {
   "cell_type": "code",
   "execution_count": 7,
   "metadata": {},
   "outputs": [],
   "source": [
    "bicy=bicy.rename(columns={'이동거리(M)':'이동거리','이용시간(분)':'이용시간'})\n"
   ]
  },
  {
   "cell_type": "code",
   "execution_count": 8,
   "metadata": {},
   "outputs": [
    {
     "data": {
      "text/plain": [
       "대여일자         0\n",
       "대여소번호        0\n",
       "대여소명         0\n",
       "대여구분코드       0\n",
       "성별        8789\n",
       "연령대코드        0\n",
       "이용건수         0\n",
       "운동량          0\n",
       "탄소량          0\n",
       "이동거리         0\n",
       "이용시간         0\n",
       "dtype: int64"
      ]
     },
     "execution_count": 8,
     "metadata": {},
     "output_type": "execute_result"
    }
   ],
   "source": [
    "bicy.isnull().sum()"
   ]
  },
  {
   "cell_type": "code",
   "execution_count": 9,
   "metadata": {},
   "outputs": [
    {
     "data": {
      "text/html": [
       "<div>\n",
       "<style scoped>\n",
       "    .dataframe tbody tr th:only-of-type {\n",
       "        vertical-align: middle;\n",
       "    }\n",
       "\n",
       "    .dataframe tbody tr th {\n",
       "        vertical-align: top;\n",
       "    }\n",
       "\n",
       "    .dataframe thead th {\n",
       "        text-align: right;\n",
       "    }\n",
       "</style>\n",
       "<table border=\"1\" class=\"dataframe\">\n",
       "  <thead>\n",
       "    <tr style=\"text-align: right;\">\n",
       "      <th></th>\n",
       "      <th>대여일자</th>\n",
       "      <th>대여소번호</th>\n",
       "      <th>대여소명</th>\n",
       "      <th>대여구분코드</th>\n",
       "      <th>성별</th>\n",
       "      <th>연령대코드</th>\n",
       "      <th>이용건수</th>\n",
       "      <th>운동량</th>\n",
       "      <th>탄소량</th>\n",
       "      <th>이동거리</th>\n",
       "      <th>이용시간</th>\n",
       "    </tr>\n",
       "  </thead>\n",
       "  <tbody>\n",
       "    <tr>\n",
       "      <th>0</th>\n",
       "      <td>2021-01</td>\n",
       "      <td>3</td>\n",
       "      <td>중랑센터</td>\n",
       "      <td>일일(회원)</td>\n",
       "      <td>M</td>\n",
       "      <td>AGE_003</td>\n",
       "      <td>2</td>\n",
       "      <td>47.68</td>\n",
       "      <td>0.40</td>\n",
       "      <td>1720.00</td>\n",
       "      <td>25</td>\n",
       "    </tr>\n",
       "    <tr>\n",
       "      <th>1</th>\n",
       "      <td>2021-01</td>\n",
       "      <td>3</td>\n",
       "      <td>중랑센터</td>\n",
       "      <td>정기</td>\n",
       "      <td>M</td>\n",
       "      <td>AGE_003</td>\n",
       "      <td>11</td>\n",
       "      <td>578.98</td>\n",
       "      <td>2.87</td>\n",
       "      <td>12390.48</td>\n",
       "      <td>166</td>\n",
       "    </tr>\n",
       "    <tr>\n",
       "      <th>2</th>\n",
       "      <td>2021-01</td>\n",
       "      <td>3</td>\n",
       "      <td>중랑센터</td>\n",
       "      <td>정기</td>\n",
       "      <td>M</td>\n",
       "      <td>AGE_004</td>\n",
       "      <td>1</td>\n",
       "      <td>81.65</td>\n",
       "      <td>0.53</td>\n",
       "      <td>2291.05</td>\n",
       "      <td>13</td>\n",
       "    </tr>\n",
       "    <tr>\n",
       "      <th>3</th>\n",
       "      <td>2021-01</td>\n",
       "      <td>5</td>\n",
       "      <td>상암센터 정비실</td>\n",
       "      <td>일일(회원)</td>\n",
       "      <td>\\N</td>\n",
       "      <td>AGE_004</td>\n",
       "      <td>1</td>\n",
       "      <td>511.95</td>\n",
       "      <td>3.53</td>\n",
       "      <td>15209.58</td>\n",
       "      <td>47</td>\n",
       "    </tr>\n",
       "    <tr>\n",
       "      <th>4</th>\n",
       "      <td>2021-01</td>\n",
       "      <td>5</td>\n",
       "      <td>상암센터 정비실</td>\n",
       "      <td>일일(회원)</td>\n",
       "      <td>M</td>\n",
       "      <td>AGE_004</td>\n",
       "      <td>6</td>\n",
       "      <td>371.10</td>\n",
       "      <td>3.39</td>\n",
       "      <td>14642.60</td>\n",
       "      <td>134</td>\n",
       "    </tr>\n",
       "  </tbody>\n",
       "</table>\n",
       "</div>"
      ],
      "text/plain": [
       "      대여일자  대여소번호      대여소명  대여구분코드  성별    연령대코드  이용건수     운동량   탄소량  \\\n",
       "0  2021-01      3      중랑센터  일일(회원)   M  AGE_003     2   47.68  0.40   \n",
       "1  2021-01      3      중랑센터      정기   M  AGE_003    11  578.98  2.87   \n",
       "2  2021-01      3      중랑센터      정기   M  AGE_004     1   81.65  0.53   \n",
       "3  2021-01      5  상암센터 정비실  일일(회원)  \\N  AGE_004     1  511.95  3.53   \n",
       "4  2021-01      5  상암센터 정비실  일일(회원)   M  AGE_004     6  371.10  3.39   \n",
       "\n",
       "       이동거리  이용시간  \n",
       "0   1720.00    25  \n",
       "1  12390.48   166  \n",
       "2   2291.05    13  \n",
       "3  15209.58    47  \n",
       "4  14642.60   134  "
      ]
     },
     "execution_count": 9,
     "metadata": {},
     "output_type": "execute_result"
    }
   ],
   "source": [
    "bicy.head()"
   ]
  },
  {
   "cell_type": "code",
   "execution_count": 10,
   "metadata": {},
   "outputs": [],
   "source": [
    "# \\N 으로 된 결측치 변경\n",
    "bicy=bicy.replace('\\\\N',np.nan)"
   ]
  },
  {
   "cell_type": "code",
   "execution_count": 11,
   "metadata": {},
   "outputs": [
    {
     "data": {
      "text/plain": [
       "대여일자          0\n",
       "대여소번호         0\n",
       "대여소명          0\n",
       "대여구분코드        0\n",
       "성별        32068\n",
       "연령대코드         0\n",
       "이용건수          0\n",
       "운동량         124\n",
       "탄소량         124\n",
       "이동거리          0\n",
       "이용시간          0\n",
       "dtype: int64"
      ]
     },
     "execution_count": 11,
     "metadata": {},
     "output_type": "execute_result"
    }
   ],
   "source": [
    "bicy.isnull().sum()"
   ]
  },
  {
   "cell_type": "code",
   "execution_count": 12,
   "metadata": {},
   "outputs": [],
   "source": [
    "bicy['운동량']= bicy['운동량'].fillna(0)\n",
    "bicy['탄소량']= bicy['탄소량'].fillna(0)"
   ]
  },
  {
   "cell_type": "code",
   "execution_count": 13,
   "metadata": {},
   "outputs": [
    {
     "data": {
      "text/plain": [
       "대여일자          0\n",
       "대여소번호         0\n",
       "대여소명          0\n",
       "대여구분코드        0\n",
       "성별        32068\n",
       "연령대코드         0\n",
       "이용건수          0\n",
       "운동량           0\n",
       "탄소량           0\n",
       "이동거리          0\n",
       "이용시간          0\n",
       "dtype: int64"
      ]
     },
     "execution_count": 13,
     "metadata": {},
     "output_type": "execute_result"
    }
   ],
   "source": [
    "bicy.isnull().sum()"
   ]
  },
  {
   "cell_type": "code",
   "execution_count": 14,
   "metadata": {},
   "outputs": [
    {
     "data": {
      "text/plain": [
       "0    19936\n",
       "1    16727\n",
       "Name: 성별, dtype: int64"
      ]
     },
     "execution_count": 14,
     "metadata": {},
     "output_type": "execute_result"
    }
   ],
   "source": [
    "# 성별 f/m 처리\n",
    "bicy= bicy.replace('f','1').replace('m','0').replace('F','1').replace('M','0')\n",
    "bicy.성별.value_counts()"
   ]
  },
  {
   "cell_type": "code",
   "execution_count": 15,
   "metadata": {},
   "outputs": [
    {
     "data": {
      "text/plain": [
       "0          0\n",
       "1          0\n",
       "2          0\n",
       "3        NaN\n",
       "4          0\n",
       "        ... \n",
       "68726    NaN\n",
       "68727    NaN\n",
       "68728    NaN\n",
       "68729      1\n",
       "68730      0\n",
       "Name: 성별, Length: 68731, dtype: object"
      ]
     },
     "execution_count": 15,
     "metadata": {},
     "output_type": "execute_result"
    }
   ],
   "source": [
    "bicy.성별"
   ]
  },
  {
   "cell_type": "code",
   "execution_count": 16,
   "metadata": {},
   "outputs": [],
   "source": [
    "# 연령대 \n",
    "bicy =bicy.replace('AGE_001','1').replace('AGE_002','10').replace('AGE_003','20').replace('AGE_004','30').replace('AGE_005','40').replace('AGE_006','50').replace('AGE_007','60').replace('AGE_008','70')"
   ]
  },
  {
   "cell_type": "code",
   "execution_count": 17,
   "metadata": {},
   "outputs": [
    {
     "data": {
      "text/plain": [
       "10    15581\n",
       "20    13515\n",
       "30    12363\n",
       "40     9384\n",
       "1      7833\n",
       "50     5078\n",
       "70     3544\n",
       "60     1433\n",
       "Name: 연령대코드, dtype: int64"
      ]
     },
     "execution_count": 17,
     "metadata": {},
     "output_type": "execute_result"
    }
   ],
   "source": [
    "bicy.연령대코드.value_counts()"
   ]
  },
  {
   "cell_type": "code",
   "execution_count": 18,
   "metadata": {},
   "outputs": [],
   "source": [
    "# 대여구분코드\n",
    "bicy = bicy.replace('일일(회원)','일일회원').replace('일일(비회원)','일일비회원').replace('BIL_021',np.nan)"
   ]
  },
  {
   "cell_type": "code",
   "execution_count": 19,
   "metadata": {},
   "outputs": [
    {
     "data": {
      "text/plain": [
       "정기       38981\n",
       "일일회원     25762\n",
       "단체        2378\n",
       "일일비회원     1162\n",
       "Name: 대여구분코드, dtype: int64"
      ]
     },
     "execution_count": 19,
     "metadata": {},
     "output_type": "execute_result"
    }
   ],
   "source": [
    "bicy.대여구분코드.value_counts()"
   ]
  },
  {
   "cell_type": "code",
   "execution_count": 20,
   "metadata": {},
   "outputs": [
    {
     "data": {
      "text/html": [
       "<div>\n",
       "<style scoped>\n",
       "    .dataframe tbody tr th:only-of-type {\n",
       "        vertical-align: middle;\n",
       "    }\n",
       "\n",
       "    .dataframe tbody tr th {\n",
       "        vertical-align: top;\n",
       "    }\n",
       "\n",
       "    .dataframe thead th {\n",
       "        text-align: right;\n",
       "    }\n",
       "</style>\n",
       "<table border=\"1\" class=\"dataframe\">\n",
       "  <thead>\n",
       "    <tr style=\"text-align: right;\">\n",
       "      <th></th>\n",
       "      <th>대여일자</th>\n",
       "      <th>대여소명</th>\n",
       "      <th>대여구분코드</th>\n",
       "      <th>성별</th>\n",
       "      <th>연령대코드</th>\n",
       "      <th>운동량</th>\n",
       "      <th>탄소량</th>\n",
       "    </tr>\n",
       "  </thead>\n",
       "  <tbody>\n",
       "    <tr>\n",
       "      <th>count</th>\n",
       "      <td>68731</td>\n",
       "      <td>68731</td>\n",
       "      <td>68283</td>\n",
       "      <td>36663</td>\n",
       "      <td>68731</td>\n",
       "      <td>68731</td>\n",
       "      <td>68731</td>\n",
       "    </tr>\n",
       "    <tr>\n",
       "      <th>unique</th>\n",
       "      <td>1</td>\n",
       "      <td>2056</td>\n",
       "      <td>4</td>\n",
       "      <td>2</td>\n",
       "      <td>8</td>\n",
       "      <td>51237</td>\n",
       "      <td>5204</td>\n",
       "    </tr>\n",
       "    <tr>\n",
       "      <th>top</th>\n",
       "      <td>2021-01</td>\n",
       "      <td>583. 청계천 생태교실 앞</td>\n",
       "      <td>정기</td>\n",
       "      <td>0</td>\n",
       "      <td>10</td>\n",
       "      <td>0.00</td>\n",
       "      <td>0.00</td>\n",
       "    </tr>\n",
       "    <tr>\n",
       "      <th>freq</th>\n",
       "      <td>68731</td>\n",
       "      <td>64</td>\n",
       "      <td>38981</td>\n",
       "      <td>19936</td>\n",
       "      <td>15581</td>\n",
       "      <td>1791</td>\n",
       "      <td>1813</td>\n",
       "    </tr>\n",
       "  </tbody>\n",
       "</table>\n",
       "</div>"
      ],
      "text/plain": [
       "           대여일자             대여소명 대여구분코드     성별  연령대코드    운동량    탄소량\n",
       "count     68731            68731  68283  36663  68731  68731  68731\n",
       "unique        1             2056      4      2      8  51237   5204\n",
       "top     2021-01  583. 청계천 생태교실 앞     정기      0     10   0.00   0.00\n",
       "freq      68731               64  38981  19936  15581   1791   1813"
      ]
     },
     "execution_count": 20,
     "metadata": {},
     "output_type": "execute_result"
    }
   ],
   "source": [
    "bicy.describe(include='object')"
   ]
  },
  {
   "cell_type": "markdown",
   "metadata": {},
   "source": [
    "#### 2. 데이터타입 변환"
   ]
  },
  {
   "cell_type": "code",
   "execution_count": 21,
   "metadata": {},
   "outputs": [
    {
     "data": {
      "text/html": [
       "<div>\n",
       "<style scoped>\n",
       "    .dataframe tbody tr th:only-of-type {\n",
       "        vertical-align: middle;\n",
       "    }\n",
       "\n",
       "    .dataframe tbody tr th {\n",
       "        vertical-align: top;\n",
       "    }\n",
       "\n",
       "    .dataframe thead th {\n",
       "        text-align: right;\n",
       "    }\n",
       "</style>\n",
       "<table border=\"1\" class=\"dataframe\">\n",
       "  <thead>\n",
       "    <tr style=\"text-align: right;\">\n",
       "      <th></th>\n",
       "      <th>대여일자</th>\n",
       "      <th>대여소번호</th>\n",
       "      <th>대여소명</th>\n",
       "      <th>대여구분코드</th>\n",
       "      <th>성별</th>\n",
       "      <th>연령대코드</th>\n",
       "      <th>이용건수</th>\n",
       "      <th>운동량</th>\n",
       "      <th>탄소량</th>\n",
       "      <th>이동거리</th>\n",
       "      <th>이용시간</th>\n",
       "    </tr>\n",
       "  </thead>\n",
       "  <tbody>\n",
       "    <tr>\n",
       "      <th>0</th>\n",
       "      <td>2021-01</td>\n",
       "      <td>3</td>\n",
       "      <td>중랑센터</td>\n",
       "      <td>일일회원</td>\n",
       "      <td>0</td>\n",
       "      <td>20</td>\n",
       "      <td>2</td>\n",
       "      <td>47.68</td>\n",
       "      <td>0.40</td>\n",
       "      <td>1720.00</td>\n",
       "      <td>25</td>\n",
       "    </tr>\n",
       "    <tr>\n",
       "      <th>1</th>\n",
       "      <td>2021-01</td>\n",
       "      <td>3</td>\n",
       "      <td>중랑센터</td>\n",
       "      <td>정기</td>\n",
       "      <td>0</td>\n",
       "      <td>20</td>\n",
       "      <td>11</td>\n",
       "      <td>578.98</td>\n",
       "      <td>2.87</td>\n",
       "      <td>12390.48</td>\n",
       "      <td>166</td>\n",
       "    </tr>\n",
       "    <tr>\n",
       "      <th>2</th>\n",
       "      <td>2021-01</td>\n",
       "      <td>3</td>\n",
       "      <td>중랑센터</td>\n",
       "      <td>정기</td>\n",
       "      <td>0</td>\n",
       "      <td>30</td>\n",
       "      <td>1</td>\n",
       "      <td>81.65</td>\n",
       "      <td>0.53</td>\n",
       "      <td>2291.05</td>\n",
       "      <td>13</td>\n",
       "    </tr>\n",
       "    <tr>\n",
       "      <th>3</th>\n",
       "      <td>2021-01</td>\n",
       "      <td>5</td>\n",
       "      <td>상암센터 정비실</td>\n",
       "      <td>일일회원</td>\n",
       "      <td>NaN</td>\n",
       "      <td>30</td>\n",
       "      <td>1</td>\n",
       "      <td>511.95</td>\n",
       "      <td>3.53</td>\n",
       "      <td>15209.58</td>\n",
       "      <td>47</td>\n",
       "    </tr>\n",
       "    <tr>\n",
       "      <th>4</th>\n",
       "      <td>2021-01</td>\n",
       "      <td>5</td>\n",
       "      <td>상암센터 정비실</td>\n",
       "      <td>일일회원</td>\n",
       "      <td>0</td>\n",
       "      <td>30</td>\n",
       "      <td>6</td>\n",
       "      <td>371.10</td>\n",
       "      <td>3.39</td>\n",
       "      <td>14642.60</td>\n",
       "      <td>134</td>\n",
       "    </tr>\n",
       "  </tbody>\n",
       "</table>\n",
       "</div>"
      ],
      "text/plain": [
       "      대여일자  대여소번호      대여소명 대여구분코드   성별 연령대코드  이용건수     운동량   탄소량      이동거리  \\\n",
       "0  2021-01      3      중랑센터   일일회원    0    20     2   47.68  0.40   1720.00   \n",
       "1  2021-01      3      중랑센터     정기    0    20    11  578.98  2.87  12390.48   \n",
       "2  2021-01      3      중랑센터     정기    0    30     1   81.65  0.53   2291.05   \n",
       "3  2021-01      5  상암센터 정비실   일일회원  NaN    30     1  511.95  3.53  15209.58   \n",
       "4  2021-01      5  상암센터 정비실   일일회원    0    30     6  371.10  3.39  14642.60   \n",
       "\n",
       "   이용시간  \n",
       "0    25  \n",
       "1   166  \n",
       "2    13  \n",
       "3    47  \n",
       "4   134  "
      ]
     },
     "execution_count": 21,
     "metadata": {},
     "output_type": "execute_result"
    }
   ],
   "source": [
    "bicy.head()"
   ]
  },
  {
   "cell_type": "code",
   "execution_count": 22,
   "metadata": {},
   "outputs": [
    {
     "name": "stdout",
     "output_type": "stream",
     "text": [
      "<class 'pandas.core.frame.DataFrame'>\n",
      "RangeIndex: 68731 entries, 0 to 68730\n",
      "Data columns (total 11 columns):\n",
      " #   Column  Non-Null Count  Dtype  \n",
      "---  ------  --------------  -----  \n",
      " 0   대여일자    68731 non-null  object \n",
      " 1   대여소번호   68731 non-null  int64  \n",
      " 2   대여소명    68731 non-null  object \n",
      " 3   대여구분코드  68283 non-null  object \n",
      " 4   성별      36663 non-null  object \n",
      " 5   연령대코드   68731 non-null  object \n",
      " 6   이용건수    68731 non-null  int64  \n",
      " 7   운동량     68731 non-null  object \n",
      " 8   탄소량     68731 non-null  object \n",
      " 9   이동거리    68731 non-null  float64\n",
      " 10  이용시간    68731 non-null  int64  \n",
      "dtypes: float64(1), int64(3), object(7)\n",
      "memory usage: 5.8+ MB\n"
     ]
    }
   ],
   "source": [
    "bicy.info()"
   ]
  },
  {
   "cell_type": "code",
   "execution_count": 23,
   "metadata": {},
   "outputs": [],
   "source": [
    "bicy['대여소번호']= bicy['대여소번호'].astype('category')\n",
    "bicy['대여소명']= bicy['대여소명'].astype('category')\n",
    "bicy['성별']= bicy['성별'].astype('category')\n",
    "bicy['연령대코드']=bicy['연령대코드'].astype('category')"
   ]
  },
  {
   "cell_type": "code",
   "execution_count": 24,
   "metadata": {},
   "outputs": [],
   "source": [
    "bicy['운동량']= bicy['운동량'].astype(np.float64)\n",
    "bicy['탄소량']= bicy['탄소량'].astype(np.float64)"
   ]
  },
  {
   "cell_type": "code",
   "execution_count": 25,
   "metadata": {},
   "outputs": [
    {
     "name": "stdout",
     "output_type": "stream",
     "text": [
      "<class 'pandas.core.frame.DataFrame'>\n",
      "RangeIndex: 68731 entries, 0 to 68730\n",
      "Data columns (total 11 columns):\n",
      " #   Column  Non-Null Count  Dtype   \n",
      "---  ------  --------------  -----   \n",
      " 0   대여일자    68731 non-null  object  \n",
      " 1   대여소번호   68731 non-null  category\n",
      " 2   대여소명    68731 non-null  category\n",
      " 3   대여구분코드  68283 non-null  object  \n",
      " 4   성별      36663 non-null  category\n",
      " 5   연령대코드   68731 non-null  category\n",
      " 6   이용건수    68731 non-null  int64   \n",
      " 7   운동량     68731 non-null  float64 \n",
      " 8   탄소량     68731 non-null  float64 \n",
      " 9   이동거리    68731 non-null  float64 \n",
      " 10  이용시간    68731 non-null  int64   \n",
      "dtypes: category(4), float64(3), int64(2), object(2)\n",
      "memory usage: 4.2+ MB\n"
     ]
    }
   ],
   "source": [
    "bicy.info()"
   ]
  },
  {
   "cell_type": "code",
   "execution_count": 26,
   "metadata": {},
   "outputs": [
    {
     "name": "stdout",
     "output_type": "stream",
     "text": [
      "60.3448275862069\n"
     ]
    }
   ],
   "source": [
    "print(3.5/5.8 *100)    # 메모리 60%로 감소"
   ]
  },
  {
   "cell_type": "markdown",
   "metadata": {},
   "source": [
    "### 3. 데이터 분석"
   ]
  },
  {
   "cell_type": "code",
   "execution_count": 27,
   "metadata": {},
   "outputs": [
    {
     "data": {
      "text/html": [
       "<div>\n",
       "<style scoped>\n",
       "    .dataframe tbody tr th:only-of-type {\n",
       "        vertical-align: middle;\n",
       "    }\n",
       "\n",
       "    .dataframe tbody tr th {\n",
       "        vertical-align: top;\n",
       "    }\n",
       "\n",
       "    .dataframe thead th {\n",
       "        text-align: right;\n",
       "    }\n",
       "</style>\n",
       "<table border=\"1\" class=\"dataframe\">\n",
       "  <thead>\n",
       "    <tr style=\"text-align: right;\">\n",
       "      <th></th>\n",
       "      <th>count</th>\n",
       "      <th>mean</th>\n",
       "      <th>std</th>\n",
       "      <th>min</th>\n",
       "      <th>25%</th>\n",
       "      <th>50%</th>\n",
       "      <th>75%</th>\n",
       "      <th>max</th>\n",
       "    </tr>\n",
       "  </thead>\n",
       "  <tbody>\n",
       "    <tr>\n",
       "      <th>이용건수</th>\n",
       "      <td>68731.0</td>\n",
       "      <td>11.532002</td>\n",
       "      <td>19.273029</td>\n",
       "      <td>1.0</td>\n",
       "      <td>2.00</td>\n",
       "      <td>4.00</td>\n",
       "      <td>13.000</td>\n",
       "      <td>361.00</td>\n",
       "    </tr>\n",
       "    <tr>\n",
       "      <th>운동량</th>\n",
       "      <td>68731.0</td>\n",
       "      <td>860.399826</td>\n",
       "      <td>1487.773546</td>\n",
       "      <td>0.0</td>\n",
       "      <td>109.31</td>\n",
       "      <td>346.67</td>\n",
       "      <td>974.740</td>\n",
       "      <td>49507.93</td>\n",
       "    </tr>\n",
       "    <tr>\n",
       "      <th>탄소량</th>\n",
       "      <td>68731.0</td>\n",
       "      <td>7.432609</td>\n",
       "      <td>12.677879</td>\n",
       "      <td>0.0</td>\n",
       "      <td>0.98</td>\n",
       "      <td>3.08</td>\n",
       "      <td>8.550</td>\n",
       "      <td>457.92</td>\n",
       "    </tr>\n",
       "    <tr>\n",
       "      <th>이동거리</th>\n",
       "      <td>68731.0</td>\n",
       "      <td>32037.415714</td>\n",
       "      <td>54645.976360</td>\n",
       "      <td>0.0</td>\n",
       "      <td>4229.06</td>\n",
       "      <td>13260.39</td>\n",
       "      <td>36842.335</td>\n",
       "      <td>1974164.35</td>\n",
       "    </tr>\n",
       "    <tr>\n",
       "      <th>이용시간</th>\n",
       "      <td>68731.0</td>\n",
       "      <td>296.821260</td>\n",
       "      <td>484.693005</td>\n",
       "      <td>0.0</td>\n",
       "      <td>46.00</td>\n",
       "      <td>128.00</td>\n",
       "      <td>342.000</td>\n",
       "      <td>18097.00</td>\n",
       "    </tr>\n",
       "  </tbody>\n",
       "</table>\n",
       "</div>"
      ],
      "text/plain": [
       "        count          mean           std  min      25%       50%        75%  \\\n",
       "이용건수  68731.0     11.532002     19.273029  1.0     2.00      4.00     13.000   \n",
       "운동량   68731.0    860.399826   1487.773546  0.0   109.31    346.67    974.740   \n",
       "탄소량   68731.0      7.432609     12.677879  0.0     0.98      3.08      8.550   \n",
       "이동거리  68731.0  32037.415714  54645.976360  0.0  4229.06  13260.39  36842.335   \n",
       "이용시간  68731.0    296.821260    484.693005  0.0    46.00    128.00    342.000   \n",
       "\n",
       "             max  \n",
       "이용건수      361.00  \n",
       "운동량     49507.93  \n",
       "탄소량       457.92  \n",
       "이동거리  1974164.35  \n",
       "이용시간    18097.00  "
      ]
     },
     "execution_count": 27,
     "metadata": {},
     "output_type": "execute_result"
    }
   ],
   "source": [
    "bicy.describe().T"
   ]
  },
  {
   "cell_type": "code",
   "execution_count": 28,
   "metadata": {},
   "outputs": [
    {
     "data": {
      "text/html": [
       "<div>\n",
       "<style scoped>\n",
       "    .dataframe tbody tr th:only-of-type {\n",
       "        vertical-align: middle;\n",
       "    }\n",
       "\n",
       "    .dataframe tbody tr th {\n",
       "        vertical-align: top;\n",
       "    }\n",
       "\n",
       "    .dataframe thead th {\n",
       "        text-align: right;\n",
       "    }\n",
       "</style>\n",
       "<table border=\"1\" class=\"dataframe\">\n",
       "  <thead>\n",
       "    <tr style=\"text-align: right;\">\n",
       "      <th></th>\n",
       "      <th>date</th>\n",
       "      <th>rental.No</th>\n",
       "      <th>rental</th>\n",
       "      <th>Rcate</th>\n",
       "      <th>sex</th>\n",
       "      <th>age</th>\n",
       "      <th>useN</th>\n",
       "      <th>exer</th>\n",
       "      <th>carbon</th>\n",
       "      <th>distance</th>\n",
       "      <th>Huse</th>\n",
       "    </tr>\n",
       "  </thead>\n",
       "  <tbody>\n",
       "    <tr>\n",
       "      <th>0</th>\n",
       "      <td>2021-01</td>\n",
       "      <td>3</td>\n",
       "      <td>중랑센터</td>\n",
       "      <td>일일회원</td>\n",
       "      <td>0</td>\n",
       "      <td>20</td>\n",
       "      <td>2</td>\n",
       "      <td>47.68</td>\n",
       "      <td>0.40</td>\n",
       "      <td>1720.00</td>\n",
       "      <td>25</td>\n",
       "    </tr>\n",
       "    <tr>\n",
       "      <th>1</th>\n",
       "      <td>2021-01</td>\n",
       "      <td>3</td>\n",
       "      <td>중랑센터</td>\n",
       "      <td>정기</td>\n",
       "      <td>0</td>\n",
       "      <td>20</td>\n",
       "      <td>11</td>\n",
       "      <td>578.98</td>\n",
       "      <td>2.87</td>\n",
       "      <td>12390.48</td>\n",
       "      <td>166</td>\n",
       "    </tr>\n",
       "    <tr>\n",
       "      <th>2</th>\n",
       "      <td>2021-01</td>\n",
       "      <td>3</td>\n",
       "      <td>중랑센터</td>\n",
       "      <td>정기</td>\n",
       "      <td>0</td>\n",
       "      <td>30</td>\n",
       "      <td>1</td>\n",
       "      <td>81.65</td>\n",
       "      <td>0.53</td>\n",
       "      <td>2291.05</td>\n",
       "      <td>13</td>\n",
       "    </tr>\n",
       "    <tr>\n",
       "      <th>3</th>\n",
       "      <td>2021-01</td>\n",
       "      <td>5</td>\n",
       "      <td>상암센터 정비실</td>\n",
       "      <td>일일회원</td>\n",
       "      <td>NaN</td>\n",
       "      <td>30</td>\n",
       "      <td>1</td>\n",
       "      <td>511.95</td>\n",
       "      <td>3.53</td>\n",
       "      <td>15209.58</td>\n",
       "      <td>47</td>\n",
       "    </tr>\n",
       "    <tr>\n",
       "      <th>4</th>\n",
       "      <td>2021-01</td>\n",
       "      <td>5</td>\n",
       "      <td>상암센터 정비실</td>\n",
       "      <td>일일회원</td>\n",
       "      <td>0</td>\n",
       "      <td>30</td>\n",
       "      <td>6</td>\n",
       "      <td>371.10</td>\n",
       "      <td>3.39</td>\n",
       "      <td>14642.60</td>\n",
       "      <td>134</td>\n",
       "    </tr>\n",
       "  </tbody>\n",
       "</table>\n",
       "</div>"
      ],
      "text/plain": [
       "      date rental.No    rental Rcate  sex age  useN    exer  carbon  distance  \\\n",
       "0  2021-01         3      중랑센터  일일회원    0  20     2   47.68    0.40   1720.00   \n",
       "1  2021-01         3      중랑센터    정기    0  20    11  578.98    2.87  12390.48   \n",
       "2  2021-01         3      중랑센터    정기    0  30     1   81.65    0.53   2291.05   \n",
       "3  2021-01         5  상암센터 정비실  일일회원  NaN  30     1  511.95    3.53  15209.58   \n",
       "4  2021-01         5  상암센터 정비실  일일회원    0  30     6  371.10    3.39  14642.60   \n",
       "\n",
       "   Huse  \n",
       "0    25  \n",
       "1   166  \n",
       "2    13  \n",
       "3    47  \n",
       "4   134  "
      ]
     },
     "execution_count": 28,
     "metadata": {},
     "output_type": "execute_result"
    }
   ],
   "source": [
    "# 한글 깨짐 현상을 해결하지 못해서 칼럼이름을 영어로 변경 \n",
    "\n",
    "bicy = bicy.rename(columns={'대여일자':'date','대여소번호':'rental.No','대여소명':'rental','대여구분코드':'Rcate','성별':'sex','연령대코드':'age','이용건수':'useN','운동량':'exer','탄소량':'carbon','이동거리':'distance','이용시간':'Huse'})\n",
    "bicy.head()"
   ]
  },
  {
   "cell_type": "code",
   "execution_count": 29,
   "metadata": {},
   "outputs": [
    {
     "data": {
      "text/html": [
       "<div>\n",
       "<style scoped>\n",
       "    .dataframe tbody tr th:only-of-type {\n",
       "        vertical-align: middle;\n",
       "    }\n",
       "\n",
       "    .dataframe tbody tr th {\n",
       "        vertical-align: top;\n",
       "    }\n",
       "\n",
       "    .dataframe thead th {\n",
       "        text-align: right;\n",
       "    }\n",
       "</style>\n",
       "<table border=\"1\" class=\"dataframe\">\n",
       "  <thead>\n",
       "    <tr style=\"text-align: right;\">\n",
       "      <th></th>\n",
       "      <th>rental</th>\n",
       "      <th>distance</th>\n",
       "    </tr>\n",
       "  </thead>\n",
       "  <tbody>\n",
       "    <tr>\n",
       "      <th>818</th>\n",
       "      <td>207. 여의나루역 1번출구 앞</td>\n",
       "      <td>214957.997903</td>\n",
       "    </tr>\n",
       "    <tr>\n",
       "      <th>1685</th>\n",
       "      <td>502. 뚝섬유원지역 1번출구 앞</td>\n",
       "      <td>200866.122203</td>\n",
       "    </tr>\n",
       "    <tr>\n",
       "      <th>1737</th>\n",
       "      <td>565. 옥수역 3번출구</td>\n",
       "      <td>199626.209153</td>\n",
       "    </tr>\n",
       "    <tr>\n",
       "      <th>447</th>\n",
       "      <td>152. 마포구민체육센터 앞</td>\n",
       "      <td>166088.996000</td>\n",
       "    </tr>\n",
       "    <tr>\n",
       "      <th>843</th>\n",
       "      <td>2102. 봉림교 교통섬</td>\n",
       "      <td>162260.832586</td>\n",
       "    </tr>\n",
       "  </tbody>\n",
       "</table>\n",
       "</div>"
      ],
      "text/plain": [
       "                  rental       distance\n",
       "818    207. 여의나루역 1번출구 앞  214957.997903\n",
       "1685  502. 뚝섬유원지역 1번출구 앞  200866.122203\n",
       "1737       565. 옥수역 3번출구  199626.209153\n",
       "447      152. 마포구민체육센터 앞  166088.996000\n",
       "843        2102. 봉림교 교통섬  162260.832586"
      ]
     },
     "execution_count": 29,
     "metadata": {},
     "output_type": "execute_result"
    }
   ],
   "source": [
    "# 평균 이동거리가 긴 대여소\n",
    "\n",
    "bicy.groupby(['rental'])['distance'].mean(\n",
    ").reset_index().sort_values(by='distance', ascending=False).head()"
   ]
  },
  {
   "cell_type": "code",
   "execution_count": 30,
   "metadata": {},
   "outputs": [
    {
     "data": {
      "text/html": [
       "<div>\n",
       "<style scoped>\n",
       "    .dataframe tbody tr th:only-of-type {\n",
       "        vertical-align: middle;\n",
       "    }\n",
       "\n",
       "    .dataframe tbody tr th {\n",
       "        vertical-align: top;\n",
       "    }\n",
       "\n",
       "    .dataframe thead th {\n",
       "        text-align: right;\n",
       "    }\n",
       "</style>\n",
       "<table border=\"1\" class=\"dataframe\">\n",
       "  <thead>\n",
       "    <tr style=\"text-align: right;\">\n",
       "      <th></th>\n",
       "      <th>rental</th>\n",
       "      <th>Huse</th>\n",
       "    </tr>\n",
       "  </thead>\n",
       "  <tbody>\n",
       "    <tr>\n",
       "      <th>818</th>\n",
       "      <td>207. 여의나루역 1번출구 앞</td>\n",
       "      <td>1955.919355</td>\n",
       "    </tr>\n",
       "    <tr>\n",
       "      <th>1685</th>\n",
       "      <td>502. 뚝섬유원지역 1번출구 앞</td>\n",
       "      <td>1734.135593</td>\n",
       "    </tr>\n",
       "    <tr>\n",
       "      <th>447</th>\n",
       "      <td>152. 마포구민체육센터 앞</td>\n",
       "      <td>1426.283333</td>\n",
       "    </tr>\n",
       "    <tr>\n",
       "      <th>1737</th>\n",
       "      <td>565. 옥수역 3번출구</td>\n",
       "      <td>1414.423729</td>\n",
       "    </tr>\n",
       "    <tr>\n",
       "      <th>843</th>\n",
       "      <td>2102. 봉림교 교통섬</td>\n",
       "      <td>1344.017241</td>\n",
       "    </tr>\n",
       "  </tbody>\n",
       "</table>\n",
       "</div>"
      ],
      "text/plain": [
       "                  rental         Huse\n",
       "818    207. 여의나루역 1번출구 앞  1955.919355\n",
       "1685  502. 뚝섬유원지역 1번출구 앞  1734.135593\n",
       "447      152. 마포구민체육센터 앞  1426.283333\n",
       "1737       565. 옥수역 3번출구  1414.423729\n",
       "843        2102. 봉림교 교통섬  1344.017241"
      ]
     },
     "execution_count": 30,
     "metadata": {},
     "output_type": "execute_result"
    }
   ],
   "source": [
    "# 평균 이용시간이 많은 상위 대여소\n",
    "topH=bicy.groupby(['rental'])['Huse'].mean(\n",
    ").reset_index().sort_values(by='Huse', ascending=False).head()\n",
    "topH"
   ]
  },
  {
   "cell_type": "code",
   "execution_count": 31,
   "metadata": {},
   "outputs": [
    {
     "data": {
      "text/html": [
       "<div>\n",
       "<style scoped>\n",
       "    .dataframe tbody tr th:only-of-type {\n",
       "        vertical-align: middle;\n",
       "    }\n",
       "\n",
       "    .dataframe tbody tr th {\n",
       "        vertical-align: top;\n",
       "    }\n",
       "\n",
       "    .dataframe thead th {\n",
       "        text-align: right;\n",
       "    }\n",
       "</style>\n",
       "<table border=\"1\" class=\"dataframe\">\n",
       "  <thead>\n",
       "    <tr style=\"text-align: right;\">\n",
       "      <th></th>\n",
       "      <th>rental</th>\n",
       "      <th>Huse</th>\n",
       "    </tr>\n",
       "  </thead>\n",
       "  <tbody>\n",
       "    <tr>\n",
       "      <th>1345</th>\n",
       "      <td>2918.골마을 근린공원</td>\n",
       "      <td>8.000000</td>\n",
       "    </tr>\n",
       "    <tr>\n",
       "      <th>1091</th>\n",
       "      <td>2393. 구룡사 앞 교차로 (보도육교)</td>\n",
       "      <td>24.823529</td>\n",
       "    </tr>\n",
       "    <tr>\n",
       "      <th>1169</th>\n",
       "      <td>2536.서초종합체육관 입구</td>\n",
       "      <td>30.200000</td>\n",
       "    </tr>\n",
       "    <tr>\n",
       "      <th>1172</th>\n",
       "      <td>2539.대한무역투자진흥공사 KOTRA 앞</td>\n",
       "      <td>33.000000</td>\n",
       "    </tr>\n",
       "    <tr>\n",
       "      <th>1093</th>\n",
       "      <td>2395. 개포1단지아파트 입구 (보도육교)</td>\n",
       "      <td>36.600000</td>\n",
       "    </tr>\n",
       "  </tbody>\n",
       "</table>\n",
       "</div>"
      ],
      "text/plain": [
       "                        rental       Huse\n",
       "1345            2918.골마을 근린공원    8.000000\n",
       "1091    2393. 구룡사 앞 교차로 (보도육교)  24.823529\n",
       "1169           2536.서초종합체육관 입구  30.200000\n",
       "1172   2539.대한무역투자진흥공사 KOTRA 앞  33.000000\n",
       "1093  2395. 개포1단지아파트 입구 (보도육교)  36.600000"
      ]
     },
     "execution_count": 31,
     "metadata": {},
     "output_type": "execute_result"
    }
   ],
   "source": [
    "# 평균 이용시간이 적은 상위 대여소\n",
    "bicy.groupby(['rental'])['Huse'].mean(\n",
    ").reset_index().sort_values(by='Huse', ascending=True).head()"
   ]
  },
  {
   "cell_type": "markdown",
   "metadata": {},
   "source": [
    "### 4. 시각화"
   ]
  },
  {
   "cell_type": "code",
   "execution_count": 32,
   "metadata": {},
   "outputs": [],
   "source": [
    "%matplotlib inline\n",
    "import matplotlib as mpl\n",
    "import matplotlib.pyplot as plt\n",
    "import seaborn as sns\n",
    "from scipy import stats\n",
    "\n",
    "import warnings\n",
    "warnings.filterwarnings('ignore')\n",
    "\n"
   ]
  },
  {
   "cell_type": "code",
   "execution_count": 33,
   "metadata": {},
   "outputs": [
    {
     "data": {
      "text/plain": [
       "Index(['date', 'rental.No', 'rental', 'Rcate', 'sex', 'age', 'useN', 'exer',\n",
       "       'carbon', 'distance', 'Huse'],\n",
       "      dtype='object')"
      ]
     },
     "execution_count": 33,
     "metadata": {},
     "output_type": "execute_result"
    }
   ],
   "source": [
    "bicy.columns"
   ]
  },
  {
   "cell_type": "code",
   "execution_count": 34,
   "metadata": {},
   "outputs": [],
   "source": [
    "cor = bicy[['rental','Rcate','sex','age','useN','exer','carbon','distance','Huse']]"
   ]
  },
  {
   "cell_type": "code",
   "execution_count": 35,
   "metadata": {},
   "outputs": [
    {
     "name": "stdout",
     "output_type": "stream",
     "text": [
      "              useN      exer    carbon  distance      Huse\n",
      "useN      1.000000  0.823506  0.821539  0.821540  0.862957\n",
      "exer      0.823506  1.000000  0.991923  0.991924  0.931951\n",
      "carbon    0.821539  0.991923  1.000000  1.000000  0.940628\n",
      "distance  0.821540  0.991924  1.000000  1.000000  0.940629\n",
      "Huse      0.862957  0.931951  0.940628  0.940629  1.000000\n"
     ]
    }
   ],
   "source": [
    "cor = cor.corr()\n",
    "print(cor)\n",
    "\n",
    "mask = np.array(cor)\n",
    "mask[np.tril_indices_from(mask)]= False"
   ]
  },
  {
   "cell_type": "code",
   "execution_count": 36,
   "metadata": {},
   "outputs": [
    {
     "data": {
      "text/plain": [
       "<AxesSubplot:>"
      ]
     },
     "execution_count": 36,
     "metadata": {},
     "output_type": "execute_result"
    },
    {
     "data": {
      "image/png": "[encoded data removed]",
      "text/plain": [
       "<Figure size 360x360 with 2 Axes>"
      ]
     },
     "metadata": {
      "needs_background": "light"
     },
     "output_type": "display_data"
    }
   ],
   "source": [
    "# 상관관계 분석\n",
    "\n",
    "plt.rcParams[\"figure.figsize\"] = (5,5)\n",
    "sns.heatmap(bicy.corr(),\n",
    "           annot = True, #실제 값 화면에 나타내기\n",
    "           cmap = 'ocean', #색상\n",
    "           vmin = -1, vmax=1 , #컬러차트 영역 -1 ~ +1\n",
    "          )"
   ]
  },
  {
   "cell_type": "markdown",
   "metadata": {},
   "source": [
    "#### 나이대별 이용건수 비교  \n",
    "10대, 20대 ,30대 순으로 가장 높다"
   ]
  },
  {
   "cell_type": "code",
   "execution_count": 37,
   "metadata": {},
   "outputs": [
    {
     "data": {
      "text/plain": [
       "<AxesSubplot:xlabel='age', ylabel='useN'>"
      ]
     },
     "execution_count": 37,
     "metadata": {},
     "output_type": "execute_result"
    },
    {
     "data": {
      "image/png": "[encoded data removed]",
      "text/plain": [
       "<Figure size 720x360 with 1 Axes>"
      ]
     },
     "metadata": {
      "needs_background": "light"
     },
     "output_type": "display_data"
    }
   ],
   "source": [
    "# 나이대별 이용건수 비교\n",
    "fig, ax = plt.subplots(figsize = (10,5))\n",
    "age_use = bicy.groupby(['age'])['useN'].mean().sort_values(ascending=False)\n",
    "sns.barplot(x='age',y='useN', ax=ax, data=bicy)"
   ]
  },
  {
   "cell_type": "code",
   "execution_count": 38,
   "metadata": {},
   "outputs": [
    {
     "data": {
      "image/png": "[encoded data removed]",
      "text/plain": [
       "<Figure size 720x720 with 1 Axes>"
      ]
     },
     "metadata": {},
     "output_type": "display_data"
    }
   ],
   "source": [
    "plt.style.use( 'seaborn-pastel')\n",
    "age_use.plot( kind = 'pie', figsize = (10,10), autopct = '%1.1f%%', startangle = 90, subplots=True)\n",
    "plt.show()"
   ]
  },
  {
   "cell_type": "markdown",
   "metadata": {},
   "source": [
    "#### 성별 이용률\n",
    "비교적 남자의 자전거 이용률이 높은 것 알 수 있다."
   ]
  },
  {
   "cell_type": "code",
   "execution_count": 39,
   "metadata": {},
   "outputs": [
    {
     "data": {
      "image/png": "[encoded data removed]",
      "text/plain": [
       "<Figure size 720x720 with 1 Axes>"
      ]
     },
     "metadata": {},
     "output_type": "display_data"
    }
   ],
   "source": [
    "# 성별 이용건수\n",
    "plt.style.use( 'seaborn-pastel')\n",
    "sex_use= bicy.groupby(['sex'])['useN'].mean().sort_values(ascending=False)\n",
    "sex_use.plot( kind = 'pie', figsize = (10,10), autopct = '%1.1f%%', startangle = 90, subplots=True)\n",
    "plt.show()"
   ]
  },
  {
   "cell_type": "code",
   "execution_count": 44,
   "metadata": {},
   "outputs": [
    {
     "data": {
      "text/plain": [
       "Text(0, 0.5, 'useN')"
      ]
     },
     "execution_count": 44,
     "metadata": {},
     "output_type": "execute_result"
    },
    {
     "data": {
      "image/png": "[encoded data removed]",
      "text/plain": [
       "<Figure size 576x360 with 1 Axes>"
      ]
     },
     "metadata": {
      "needs_background": "light"
     },
     "output_type": "display_data"
    }
   ],
   "source": [
    "# 대여소별 이용건수\n",
    "plt.style.use( 'seaborn-pastel' )\n",
    "top_r = bicy['rental.No'].value_counts(sort=True)\n",
    "top_r[:11].plot(kind='bar', figsize=(8,5))\n",
    "plt.xlabel('rental.No', fontsize=15)\n",
    "plt.ylabel('useN', fontsize=15)        # 상위 10개의 대여소는 이용건수가 60개 정도로 비슷"
   ]
  },
  {
   "cell_type": "markdown",
   "metadata": {},
   "source": [
    "#### 회원구분별로 이용시간 비교\n",
    "가장 오랜시간을 타는 그룹은 정기권회원이다. 다음은 일일회원 ,단체, 일일비회원 순으로 이용시간이 길다."
   ]
  },
  {
   "cell_type": "code",
   "execution_count": 41,
   "metadata": {},
   "outputs": [
    {
     "data": {
      "text/plain": [
       "<AxesSubplot:xlabel='Rcate'>"
      ]
     },
     "execution_count": 41,
     "metadata": {},
     "output_type": "execute_result"
    },
    {
     "data": {
      "image/png": "[encoded data removed]",
      "text/plain": [
       "<Figure size 360x360 with 1 Axes>"
      ]
     },
     "metadata": {
      "needs_background": "light"
     },
     "output_type": "display_data"
    }
   ],
   "source": [
    "# 대여구분코드별로 이용시간 비교\n",
    "plt.style.use( 'seaborn-pastel')\n",
    "cate_H = bicy.groupby(['Rcate'])['Huse'].mean().sort_values(ascending=False)\n",
    "cate_H.plot(kind='bar',rot=0)"
   ]
  },
  {
   "cell_type": "markdown",
   "metadata": {},
   "source": [
    "#### 운동량과 탄소량 비교\n",
    "운동량과 탄소량은 높은 상관관계를 갖는다."
   ]
  },
  {
   "cell_type": "code",
   "execution_count": 42,
   "metadata": {},
   "outputs": [
    {
     "data": {
      "image/png": "[encoded data removed]",
      "text/plain": [
       "<Figure size 360x360 with 1 Axes>"
      ]
     },
     "metadata": {
      "needs_background": "light"
     },
     "output_type": "display_data"
    }
   ],
   "source": [
    "sns.lmplot(x='exer',y='carbon', data=bicy)\n",
    "plt.show()"
   ]
  },
  {
   "cell_type": "markdown",
   "metadata": {},
   "source": [
    "운동량과 탄소량은 비례하고 이용건수가 가장 많았던 10대가 눈에 가장 많이 뛴다."
   ]
  },
  {
   "cell_type": "code",
   "execution_count": 43,
   "metadata": {},
   "outputs": [
    {
     "data": {
      "text/plain": [
       "<seaborn.axisgrid.FacetGrid at 0x28bf5daea00>"
      ]
     },
     "execution_count": 43,
     "metadata": {},
     "output_type": "execute_result"
    },
    {
     "data": {
      "image/png": "[encoded data removed]",
      "text/plain": [
       "<Figure size 408.75x360 with 1 Axes>"
      ]
     },
     "metadata": {
      "needs_background": "light"
     },
     "output_type": "display_data"
    }
   ],
   "source": [
    "sns.relplot(\n",
    "    x='exer',\n",
    "    y='carbon',\n",
    "    data=bicy,\n",
    "    hue='age', # 색상을 회원구분에 대해서 바꾸기\n",
    "    alpha=.5, # 투명도\n",
    "    height=5  # 크기\n",
    ")"
   ]
  },
  {
   "cell_type": "markdown",
   "metadata": {},
   "source": [
    "### 5. 의미 도출"
   ]
  },
  {
   "cell_type": "markdown",
   "metadata": {},
   "source": [
    "1. 평균 이동거리가 긴 대여소  \n",
    "여의나루역 1번출구 앞, 뚝섬유원지역 1번출구 앞,옥수역 3번출구,마포구민체육센터 앞,봉림교 교통섬\n",
    "  평균 이용시간이 많은 상위 대여소  \n",
    "여의나루역 1번출구 앞, 뚝섬유원지역 1번출구 앞,마포구민체육센터 앞,옥수역 3번출구,봉림교 교통섬  \n",
    "-> 이동거리와 이용시간이 긴 대여소 top5가 같다.  \n",
    "\n",
    "2. 공공자건거 연령대 별 이용수  \n",
    "10대 - 20대 - 30대 - 40대 - 50대- 10대 미만 - 70대 이상 - 60대 순  \n",
    "\n",
    "3. 성별 이용수 비교하여 남자가 61%로 이용률 높다.  \n",
    "  \n",
    "4. 대여구분코드별로 이용시간 비교  \n",
    "정기권회원 - 일일회원 - 단체 - 일일비회원 순으로 이용시간이 길다.  \n",
    "\n",
    "5. 운동량과 탄소량은 높은 상관관계를 가지고 비례한다.  \n",
    "\n",
    "공공자건거의 이용현황을 분석하여 더욱 이용률을 높일 수 있는 방안을 찾을 수 있다고 생각했습니다.  \n",
    "가장 이용거리와, 이용시간이 긴 여의나루역과 뚝섬유원지에 자건거를 늘릴 수 있고  \n",
    "20,30대, 여성의 이용률을 높일 수 있는 방법을 찾을 수 있다고 생각했습니다.\n"
   ]
  },
  {
   "cell_type": "code",
   "execution_count": null,
   "metadata": {},
   "outputs": [],
   "source": []
  }
 ],
 "metadata": {
  "kernelspec": {
   "display_name": "Python 3",
   "language": "python",
   "name": "python3"
  },
  "language_info": {
   "codemirror_mode": {
    "name": "ipython",
    "version": 3
   },
   "file_extension": ".py",
   "mimetype": "text/x-python",
   "name": "python",
   "nbconvert_exporter": "python",
   "pygments_lexer": "ipython3",
   "version": "3.8.5"
  }
 },
 "nbformat": 4,
 "nbformat_minor": 4
}
